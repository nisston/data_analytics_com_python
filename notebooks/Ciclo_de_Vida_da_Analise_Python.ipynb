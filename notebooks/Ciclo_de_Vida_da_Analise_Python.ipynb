{
  "nbformat": 4,
  "nbformat_minor": 0,
  "metadata": {
    "colab": {
      "provenance": [],
      "collapsed_sections": [
        "TdkU6tJF9nJw",
        "m5IWIGpU9ppo",
        "ZzFQq0QP9uBQ"
      ]
    },
    "kernelspec": {
      "name": "python3",
      "display_name": "Python 3"
    },
    "language_info": {
      "name": "python"
    }
  },
  "cells": [
    {
      "cell_type": "markdown",
      "source": [
        "# Carregar os dados"
      ],
      "metadata": {
        "id": "cHo2RZkB9RLZ"
      }
    },
    {
      "cell_type": "code",
      "source": [
        "# Importar as bibliotecas necessárias\n",
        "import pandas as pd\n",
        "import numpy as np\n",
        "import matplotlib.pyplot as plt\n",
        "import seaborn as sns"
      ],
      "metadata": {
        "id": "Jqmsrey8-o6J"
      },
      "execution_count": null,
      "outputs": []
    },
    {
      "cell_type": "code",
      "execution_count": null,
      "metadata": {
        "id": "V8bxG-qj6Yrf"
      },
      "outputs": [],
      "source": [
        "# Carregar o arquivo CSV em um DataFrame\n",
        "df = pd.read_excel('datatran2021_Completa.xlsx')"
      ]
    },
    {
      "cell_type": "markdown",
      "source": [
        "# Explorar os dados"
      ],
      "metadata": {
        "id": "TdkU6tJF9nJw"
      }
    },
    {
      "cell_type": "code",
      "source": [
        "# Verificando o tamanho da planilha\n",
        "df.shape"
      ],
      "metadata": {
        "colab": {
          "base_uri": "https://localhost:8080/"
        },
        "id": "Z821ju__8J6I",
        "outputId": "eb78d70a-0124-4fcc-abd8-9fa23dbe48e6"
      },
      "execution_count": null,
      "outputs": [
        {
          "output_type": "execute_result",
          "data": {
            "text/plain": [
              "(64539, 32)"
            ]
          },
          "metadata": {},
          "execution_count": 6
        }
      ]
    },
    {
      "cell_type": "code",
      "source": [
        "# Algumas informações da estrutura dos dados\n",
        "df.info()"
      ],
      "metadata": {
        "id": "DXVVUqNX8SiQ"
      },
      "execution_count": null,
      "outputs": []
    },
    {
      "cell_type": "code",
      "source": [
        "# Verificando o nome dos rótulos\n",
        "df.columns"
      ],
      "metadata": {
        "id": "0_stTzevVb2D"
      },
      "execution_count": null,
      "outputs": []
    },
    {
      "cell_type": "code",
      "source": [
        "# Visualizando uma coluna específica\n",
        "df['pessoas']"
      ],
      "metadata": {
        "id": "iPX5MlAxrCzM"
      },
      "execution_count": null,
      "outputs": []
    },
    {
      "cell_type": "code",
      "source": [
        "# Visualizando mais de uma coluna\n",
        "df[['causa_acidente','fase_dia']]"
      ],
      "metadata": {
        "id": "ZwMsOGaFrM0j"
      },
      "execution_count": null,
      "outputs": []
    },
    {
      "cell_type": "code",
      "source": [
        "# Verificando os tipos de dados em uma única coluna\n",
        "df['fase_dia'].unique()"
      ],
      "metadata": {
        "id": "ot7stxprrUuD",
        "colab": {
          "base_uri": "https://localhost:8080/"
        },
        "outputId": "615bb323-1f67-4ca9-a96c-43dbdb93aa37"
      },
      "execution_count": null,
      "outputs": [
        {
          "output_type": "execute_result",
          "data": {
            "text/plain": [
              "array(['Amanhecer', 'Pleno dia', 'Plena Noite', 'Anoitecer'], dtype=object)"
            ]
          },
          "metadata": {},
          "execution_count": 12
        }
      ]
    },
    {
      "cell_type": "code",
      "source": [
        "# Exibindo um intervalo do DataFrame\n",
        "df[4:8]"
      ],
      "metadata": {
        "id": "wbmeCzQCse-z"
      },
      "execution_count": null,
      "outputs": []
    },
    {
      "cell_type": "code",
      "source": [
        "# Exibindo um intervalo do DataFrame\n",
        "df[:8]"
      ],
      "metadata": {
        "id": "g7SABgQvsqVz"
      },
      "execution_count": null,
      "outputs": []
    },
    {
      "cell_type": "code",
      "source": [
        "# Exibindo um intervalo do DataFrame\n",
        "df[4:]"
      ],
      "metadata": {
        "id": "PnhPeN12suzL"
      },
      "execution_count": null,
      "outputs": []
    },
    {
      "cell_type": "code",
      "source": [
        "# Exibindo um intervalo do DataFrame\n",
        "df[-8:]"
      ],
      "metadata": {
        "id": "EXTDLxMqs5pU"
      },
      "execution_count": null,
      "outputs": []
    },
    {
      "cell_type": "code",
      "source": [
        "# Visualizando mais de uma coluna dentro de um intervalo\n",
        "df[:5][['causa_acidente','fase_dia']]"
      ],
      "metadata": {
        "id": "appLV1lCtAQE"
      },
      "execution_count": null,
      "outputs": []
    },
    {
      "cell_type": "code",
      "source": [
        "df['Turno'].unique()"
      ],
      "metadata": {
        "colab": {
          "base_uri": "https://localhost:8080/"
        },
        "id": "p3C1-JEzPUYP",
        "outputId": "86228eeb-a2b9-43f0-918d-84c233d64a95"
      },
      "execution_count": null,
      "outputs": [
        {
          "output_type": "execute_result",
          "data": {
            "text/plain": [
              "array(['Manhã', 'Tarde', 'Noite', 'Madrugada'], dtype=object)"
            ]
          },
          "metadata": {},
          "execution_count": 22
        }
      ]
    },
    {
      "cell_type": "code",
      "source": [
        "# Agrupando por Turno, onde realiza a contagem\n",
        "df['causa_acidente'].value_counts()"
      ],
      "metadata": {
        "id": "lJCHGDhPtQdV"
      },
      "execution_count": null,
      "outputs": []
    },
    {
      "cell_type": "code",
      "source": [
        "# Agrupando por UF e depois por Turno, onde realiza a contagem\n",
        "df.groupby(['uf','Turno'])['mortos'].sum()"
      ],
      "metadata": {
        "id": "7pDvfjXkdKVZ"
      },
      "execution_count": null,
      "outputs": []
    },
    {
      "cell_type": "code",
      "source": [
        "# Verifica no Dataframe e exibe os registros onde o Turno NÃO for nulo\n",
        "df[df['Turno'].notnull()]"
      ],
      "metadata": {
        "id": "WIO-gR0ezbFN"
      },
      "execution_count": null,
      "outputs": []
    },
    {
      "cell_type": "code",
      "source": [
        "# Verifica no Dataframe e exibe os registros onde o Turno for nulo\n",
        "df[df['Turno'].isnull()]"
      ],
      "metadata": {
        "id": "sxYibLxKzdxb"
      },
      "execution_count": null,
      "outputs": []
    },
    {
      "cell_type": "code",
      "source": [
        "# Acidentes com número de mortos entre 3 e\n",
        "df[df['mortos'].between(3, 5)][['uf','mortos']]"
      ],
      "metadata": {
        "id": "s8ibhHNpzfgr"
      },
      "execution_count": null,
      "outputs": []
    },
    {
      "cell_type": "code",
      "source": [
        "# Municípios cujo nome contém a letra \"a\"\n",
        "df['municipio'][df['municipio'].str.contains('a', case=False)]"
      ],
      "metadata": {
        "id": "LB6TbhDlzg5E"
      },
      "execution_count": null,
      "outputs": []
    },
    {
      "cell_type": "code",
      "source": [
        "df['Turno'].unique()"
      ],
      "metadata": {
        "colab": {
          "base_uri": "https://localhost:8080/"
        },
        "id": "s7aUULYuT5yF",
        "outputId": "25a776d5-b02c-4918-fce2-601541cf4970"
      },
      "execution_count": null,
      "outputs": [
        {
          "output_type": "execute_result",
          "data": {
            "text/plain": [
              "array(['Manhã', 'Tarde', 'Noite', 'Madrugada'], dtype=object)"
            ]
          },
          "metadata": {},
          "execution_count": 42
        }
      ]
    },
    {
      "cell_type": "code",
      "source": [
        "# Acidentes que ocorreram nos turnos da Manhã ou Noite\n",
        "df[df['Turno'].isin(['Manhã', 'Noite'])]"
      ],
      "metadata": {
        "id": "qf5XvEncziS9"
      },
      "execution_count": null,
      "outputs": []
    },
    {
      "cell_type": "code",
      "source": [
        "# Ocorrências no turno da Manhã\n",
        "df[df['uf'] == 'PB']"
      ],
      "metadata": {
        "id": "MIzZ0_aqzkfE"
      },
      "execution_count": null,
      "outputs": []
    },
    {
      "cell_type": "code",
      "source": [
        "# Acidentes com número de mortos acima de 3 OU turno Tarde\n",
        "df[(df['mortos'] > 3) | (df['Turno'] == 'Tarde')]"
      ],
      "metadata": {
        "id": "wGSnrCY-zm-0"
      },
      "execution_count": null,
      "outputs": []
    },
    {
      "cell_type": "code",
      "source": [
        "# Acidentes com número de mortos acima de 3 E UF da PB\n",
        "df[(df['mortos'] > 2) & (df['uf'] == 'PB')]"
      ],
      "metadata": {
        "id": "_rergmQDzp1L"
      },
      "execution_count": null,
      "outputs": []
    },
    {
      "cell_type": "code",
      "source": [
        "# Acidentes com número de mortos acima de 7\n",
        "df[df['mortos'] > 7]"
      ],
      "metadata": {
        "id": "RxqCe7YVzs4L"
      },
      "execution_count": null,
      "outputs": []
    },
    {
      "cell_type": "markdown",
      "source": [
        "# Limpar os dados"
      ],
      "metadata": {
        "id": "m5IWIGpU9ppo"
      }
    },
    {
      "cell_type": "code",
      "source": [
        "# Verificar valores ausentes\n",
        "df.isnull().sum()"
      ],
      "metadata": {
        "id": "gQExCYqc-yhx"
      },
      "execution_count": null,
      "outputs": []
    },
    {
      "cell_type": "code",
      "source": [
        "# Remover todos os registros nulo\n",
        "df = df.dropna()"
      ],
      "metadata": {
        "id": "jt99rt3q-02Q"
      },
      "execution_count": null,
      "outputs": []
    },
    {
      "cell_type": "markdown",
      "source": [
        "# Transformar os dados"
      ],
      "metadata": {
        "id": "AFWWCver9r1Y"
      }
    },
    {
      "cell_type": "code",
      "source": [
        "df.columns"
      ],
      "metadata": {
        "colab": {
          "base_uri": "https://localhost:8080/"
        },
        "id": "lslffb7GesPJ",
        "outputId": "689f9b5b-3a42-4fad-e603-88166fed6bc6"
      },
      "execution_count": null,
      "outputs": [
        {
          "output_type": "execute_result",
          "data": {
            "text/plain": [
              "Index(['id', 'data_inversa', 'dia_semana', 'horario', 'Hora', 'Turno', 'uf',\n",
              "       'br', 'km', 'municipio', 'causa_acidente', 'tipo_acidente',\n",
              "       'classificacao_acidente', 'fase_dia', 'sentido_via',\n",
              "       'condicao_metereologica', 'tipo_pista', 'tracado_via', 'uso_solo',\n",
              "       'pessoas', 'mortos', 'feridos_leves', 'feridos_graves', 'ilesos',\n",
              "       'ignorados', 'feridos', 'veiculos', 'latitude', 'longitude', 'regional',\n",
              "       'delegacia', 'uop', 'saldo_geral'],\n",
              "      dtype='object')"
            ]
          },
          "metadata": {},
          "execution_count": 55
        }
      ]
    },
    {
      "cell_type": "code",
      "source": [
        "# Criar uma nova coluna de total de mortos e feridos\n",
        "df['saldo_geral'] = df['mortos'] + df['feridos_leves'] + df['feridos_graves']"
      ],
      "metadata": {
        "id": "zWFkdjqC-7f3"
      },
      "execution_count": null,
      "outputs": []
    },
    {
      "cell_type": "code",
      "source": [
        "df['saldo_geral']"
      ],
      "metadata": {
        "id": "PMRdI3NfW1Bc"
      },
      "execution_count": null,
      "outputs": []
    },
    {
      "cell_type": "code",
      "source": [
        "# Altera o conteúdo da coluna para todo em caixa alta\n",
        "df['Turno'] = df['Turno'].str.upper()"
      ],
      "metadata": {
        "id": "4pLmQ5SGdneJ"
      },
      "execution_count": null,
      "outputs": []
    },
    {
      "cell_type": "code",
      "source": [
        "# Alterar o conteúdo da coluna com bsae em uma condição\n",
        "df['categoria'] = np.where(df['mortos'] >= 5, 'Alto', 'Regular')"
      ],
      "metadata": {
        "id": "YMjWHd8ceqLz"
      },
      "execution_count": null,
      "outputs": []
    },
    {
      "cell_type": "code",
      "source": [
        "df['categoria'].value_counts()"
      ],
      "metadata": {
        "id": "D6PbP0qgfNOC"
      },
      "execution_count": null,
      "outputs": []
    },
    {
      "cell_type": "code",
      "source": [
        "df.columns"
      ],
      "metadata": {
        "id": "X7LiZL2rfvfh"
      },
      "execution_count": null,
      "outputs": []
    },
    {
      "cell_type": "code",
      "source": [
        "del df['categoria']"
      ],
      "metadata": {
        "id": "eBEoORbbfpQi"
      },
      "execution_count": null,
      "outputs": []
    },
    {
      "cell_type": "code",
      "source": [
        "df.drop(['saldo_geral', 'categoria'], inplace=True, axis=1)"
      ],
      "metadata": {
        "id": "slqM_xikfldp"
      },
      "execution_count": null,
      "outputs": []
    },
    {
      "cell_type": "markdown",
      "source": [
        "# Analisar os dados"
      ],
      "metadata": {
        "id": "ZzFQq0QP9uBQ"
      }
    },
    {
      "cell_type": "code",
      "source": [
        "# Quantidade de registros por UF\n",
        "df['uf'].value_counts()"
      ],
      "metadata": {
        "id": "1hSawLpr_Cyf"
      },
      "execution_count": null,
      "outputs": []
    },
    {
      "cell_type": "code",
      "source": [
        "# Quantidade de registros por UF\n",
        "df.groupby(['uf'])['mortos'].max()"
      ],
      "metadata": {
        "id": "3VzNdsaZBfNn"
      },
      "execution_count": null,
      "outputs": []
    },
    {
      "cell_type": "code",
      "source": [
        "# Analisando o número de mortos\n",
        "# df[df['uf']=='PB']['feridos'].describe()\n",
        "df[(df['uf'] == 'PB') & (df['feridos'] > 0)]['feridos'].describe()"
      ],
      "metadata": {
        "id": "ibFC1EdsCVEG"
      },
      "execution_count": null,
      "outputs": []
    },
    {
      "cell_type": "code",
      "source": [
        "# Estatísticas para os gols do mandante\n",
        "print('Média.........:',df['feridos'].mean())\n",
        "print('Moda..........:',df['feridos'].mode().values)\n",
        "print('Mediana.......:',df['feridos'].median())\n",
        "print('Máximo........:',df['feridos'].max())\n",
        "print('Mínimo........:',df['feridos'].min())\n",
        "print('Desvio Padrão.:',df['feridos'].std())\n",
        "print('Variância.....:',df['feridos'].var())"
      ],
      "metadata": {
        "colab": {
          "base_uri": "https://localhost:8080/",
          "height": 211
        },
        "id": "h_wHMZf-CBgH",
        "outputId": "0f948574-6866-416f-8172-47ffe056cf23"
      },
      "execution_count": null,
      "outputs": [
        {
          "output_type": "error",
          "ename": "NameError",
          "evalue": "name 'df' is not defined",
          "traceback": [
            "\u001b[0;31m---------------------------------------------------------------------------\u001b[0m",
            "\u001b[0;31mNameError\u001b[0m                                 Traceback (most recent call last)",
            "\u001b[0;32m<ipython-input-1-41523b9ebc73>\u001b[0m in \u001b[0;36m<cell line: 0>\u001b[0;34m()\u001b[0m\n\u001b[1;32m      1\u001b[0m \u001b[0;31m# Estatísticas para os gols do mandante\u001b[0m\u001b[0;34m\u001b[0m\u001b[0;34m\u001b[0m\u001b[0m\n\u001b[0;32m----> 2\u001b[0;31m \u001b[0mprint\u001b[0m\u001b[0;34m(\u001b[0m\u001b[0;34m'Média.........:'\u001b[0m\u001b[0;34m,\u001b[0m\u001b[0mdf\u001b[0m\u001b[0;34m[\u001b[0m\u001b[0;34m'feridos'\u001b[0m\u001b[0;34m]\u001b[0m\u001b[0;34m.\u001b[0m\u001b[0mmean\u001b[0m\u001b[0;34m(\u001b[0m\u001b[0;34m)\u001b[0m\u001b[0;34m)\u001b[0m\u001b[0;34m\u001b[0m\u001b[0;34m\u001b[0m\u001b[0m\n\u001b[0m\u001b[1;32m      3\u001b[0m \u001b[0mprint\u001b[0m\u001b[0;34m(\u001b[0m\u001b[0;34m'Moda..........:'\u001b[0m\u001b[0;34m,\u001b[0m\u001b[0mdf\u001b[0m\u001b[0;34m[\u001b[0m\u001b[0;34m'feridos'\u001b[0m\u001b[0;34m]\u001b[0m\u001b[0;34m.\u001b[0m\u001b[0mmode\u001b[0m\u001b[0;34m(\u001b[0m\u001b[0;34m)\u001b[0m\u001b[0;34m.\u001b[0m\u001b[0mvalues\u001b[0m\u001b[0;34m)\u001b[0m\u001b[0;34m\u001b[0m\u001b[0;34m\u001b[0m\u001b[0m\n\u001b[1;32m      4\u001b[0m \u001b[0mprint\u001b[0m\u001b[0;34m(\u001b[0m\u001b[0;34m'Mediana.......:'\u001b[0m\u001b[0;34m,\u001b[0m\u001b[0mdf\u001b[0m\u001b[0;34m[\u001b[0m\u001b[0;34m'feridos'\u001b[0m\u001b[0;34m]\u001b[0m\u001b[0;34m.\u001b[0m\u001b[0mmedian\u001b[0m\u001b[0;34m(\u001b[0m\u001b[0;34m)\u001b[0m\u001b[0;34m)\u001b[0m\u001b[0;34m\u001b[0m\u001b[0;34m\u001b[0m\u001b[0m\n\u001b[1;32m      5\u001b[0m \u001b[0mprint\u001b[0m\u001b[0;34m(\u001b[0m\u001b[0;34m'Máximo........:'\u001b[0m\u001b[0;34m,\u001b[0m\u001b[0mdf\u001b[0m\u001b[0;34m[\u001b[0m\u001b[0;34m'feridos'\u001b[0m\u001b[0;34m]\u001b[0m\u001b[0;34m.\u001b[0m\u001b[0mmax\u001b[0m\u001b[0;34m(\u001b[0m\u001b[0;34m)\u001b[0m\u001b[0;34m)\u001b[0m\u001b[0;34m\u001b[0m\u001b[0;34m\u001b[0m\u001b[0m\n",
            "\u001b[0;31mNameError\u001b[0m: name 'df' is not defined"
          ]
        }
      ]
    },
    {
      "cell_type": "code",
      "source": [
        "# Gráfico de Barra por UF\n",
        "df.groupby('uf')['feridos'].sum().plot(kind='bar', figsize=(12,5), title='Evolução de Feridos por UF')\n",
        "plt.ylabel('Total de Feridos')\n",
        "plt.xlabel('UF')\n",
        "plt.grid(True)\n",
        "plt.show()"
      ],
      "metadata": {
        "id": "Y8OtnePJ58Pm"
      },
      "execution_count": null,
      "outputs": []
    },
    {
      "cell_type": "code",
      "source": [
        "# Gráfico de Linha por UF\n",
        "df.groupby('uf')['feridos'].sum().plot(kind='line', figsize=(12,5), title='Evolução de Feridos por UF')\n",
        "plt.ylabel('Total de Feridos')\n",
        "plt.xlabel('UF')\n",
        "plt.grid(True)\n",
        "plt.show()"
      ],
      "metadata": {
        "id": "gXL4dkwp6XK0"
      },
      "execution_count": null,
      "outputs": []
    },
    {
      "cell_type": "code",
      "source": [
        "df.columns"
      ],
      "metadata": {
        "colab": {
          "base_uri": "https://localhost:8080/"
        },
        "id": "Ng20y3K9BMfd",
        "outputId": "ebdf9e41-bbca-4f1a-eb00-97bb4b4b4b69"
      },
      "execution_count": null,
      "outputs": [
        {
          "output_type": "execute_result",
          "data": {
            "text/plain": [
              "Index(['id', 'data_inversa', 'dia_semana', 'horario', 'Hora', 'Turno', 'uf',\n",
              "       'br', 'km', 'municipio', 'causa_acidente', 'tipo_acidente',\n",
              "       'classificacao_acidente', 'fase_dia', 'sentido_via',\n",
              "       'condicao_metereologica', 'tipo_pista', 'tracado_via', 'uso_solo',\n",
              "       'pessoas', 'mortos', 'feridos_leves', 'feridos_graves', 'ilesos',\n",
              "       'ignorados', 'feridos', 'veiculos', 'latitude', 'longitude', 'regional',\n",
              "       'delegacia', 'uop'],\n",
              "      dtype='object')"
            ]
          },
          "metadata": {},
          "execution_count": 64
        }
      ]
    },
    {
      "cell_type": "code",
      "source": [
        "# Histograma de feridos\n",
        "df[df['uf']=='PB']['pessoas'].plot(kind='hist', bins=20, title='Distribuição de Feridos')\n",
        "plt.xlabel('Número de Feridos')\n",
        "plt.grid(True)\n",
        "plt.show()"
      ],
      "metadata": {
        "id": "GbYxI8Mg576j"
      },
      "execution_count": null,
      "outputs": []
    },
    {
      "cell_type": "code",
      "source": [
        "df[(df['uf'] == 'PB') & (df['feridos'] > 0)].boxplot(column='feridos')\n",
        "plt.title('Boxplot - Feridos')\n",
        "plt.ylabel('Quantidade de Feridos')\n",
        "plt.grid(True)\n",
        "plt.show()"
      ],
      "metadata": {
        "id": "aJmFcgCOBcys"
      },
      "execution_count": null,
      "outputs": []
    },
    {
      "cell_type": "markdown",
      "source": [
        "# Salvar ou exportar"
      ],
      "metadata": {
        "id": "ieVs3eIS9vyg"
      }
    },
    {
      "cell_type": "code",
      "source": [
        "df2 = df.groupby(['uf'])['feridos'].count()\n",
        "df2"
      ],
      "metadata": {
        "id": "s75YIipGdoGK"
      },
      "execution_count": null,
      "outputs": []
    },
    {
      "cell_type": "code",
      "source": [
        "# Salvar ou exportar a base de dados para o formato JSON\n",
        "df2.to_json('dados.json', orient='records', indent=4)"
      ],
      "metadata": {
        "id": "UpoNqYv2CUyU"
      },
      "execution_count": null,
      "outputs": []
    },
    {
      "cell_type": "code",
      "source": [
        "# Salvar ou exportar a base de dados para o formato TXT\n",
        "df2.to_csv('dados.txt', sep='\\t', index=False)"
      ],
      "metadata": {
        "id": "MAkg-ycQCUp0"
      },
      "execution_count": null,
      "outputs": []
    },
    {
      "cell_type": "code",
      "source": [
        "# Salvar ou exportar a base de dados para o formato CSV\n",
        "df2.to_csv('dados.csv', index=False)"
      ],
      "metadata": {
        "id": "PrZmiT9gCUhF"
      },
      "execution_count": null,
      "outputs": []
    },
    {
      "cell_type": "code",
      "source": [
        "# Salvar ou exportar a base de dados para o formato XLSX\n",
        "df2.to_excel('dados.xlsx', index=False)"
      ],
      "metadata": {
        "id": "_ERgk-aUCUYU"
      },
      "execution_count": null,
      "outputs": []
    }
  ]
}